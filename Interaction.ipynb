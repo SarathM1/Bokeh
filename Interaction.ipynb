{
 "cells": [
  {
   "cell_type": "markdown",
   "metadata": {},
   "source": [
    "# Linked Panning"
   ]
  },
  {
   "cell_type": "markdown",
   "metadata": {},
   "source": [
    "All that is needed to enable this feature is to share range objects between figure() calls"
   ]
  },
  {
   "cell_type": "markdown",
   "metadata": {},
   "source": [
    "# Linked Brushing"
   ]
  },
  {
   "cell_type": "markdown",
   "metadata": {},
   "source": [
    "expressed by sharing data sources between glyph renderers"
   ]
  },
  {
   "cell_type": "code",
   "execution_count": null,
   "metadata": {
    "collapsed": true
   },
   "outputs": [],
   "source": [
    "from bokeh.io import show, output_notebook\n",
    "from bokeh.layouts import gridplot\n",
    "from bokeh.plotting import figure\n",
    "from bokeh.palettes import Spectral6\n",
    "from bokeh.models import ColumnDataSource\n",
    "import numpy as np\n",
    "\n",
    "# output_file(\"panning.html\")\n",
    "output_notebook()\n",
    "TOOLS = \"box_select,lasso_select, pan\"\n",
    "\n",
    "N = 50\n",
    "x = np.linspace(0, 4 * np.pi, N)\n",
    "y0 = np.sin(x)\n",
    "y1 = np.cos(x)\n",
    "y2 = np.sin(x) + np.cos(x)\n",
    "    \n",
    "# create a column data source for the plots to share\n",
    "source = ColumnDataSource(data=dict(x=x, y0=y0, y1=y1, y2=y2))\n",
    "\n",
    "# create a new plot\n",
    "s1 = figure(tools=TOOLS, plot_width=250, plot_height=250, title=\"Title1\")\n",
    "s1.circle('x', 'y0', size=5, color=Spectral6[0], alpha=0.5, source=source)\n",
    "\n",
    "# create a new plot and share both ranges\n",
    "s2 = figure(tools=TOOLS, plot_width=250, plot_height=250, x_range=s1.x_range, y_range=s1.y_range, title=\"Title2\")\n",
    "#s2.triangle('x', 'y1', size=10, color=Spectral6[1], source=source)\n",
    "s2.line('x', 'y1', color=Spectral6[1], source=source, line_width=5)\n",
    "\n",
    "# create a new plot and share only one range\n",
    "s3 = figure(tools=TOOLS, plot_width=250, plot_height=250, x_range=s1.x_range, title=\"Title3\")\n",
    "s3.circle('x', 'y2', size=5, color=\"white\", source=source, alpha=0.2,\\\n",
    "          line_color = \"firebrick\", line_width=2)\n",
    "\n",
    "p = gridplot([[s1, s2, s3]])\n",
    "\n",
    "#styling changes\n",
    "s1.xgrid.visible = False\n",
    "s2.xgrid.visible = False\n",
    "s3.xgrid.visible = False\n",
    "\n",
    "s1.ygrid.visible = False\n",
    "s2.ygrid.visible = False\n",
    "s3.ygrid.visible = False\n",
    "\n",
    "s1.outline_line_color = None\n",
    "s2.outline_line_color = None\n",
    "s3.outline_line_color = None\n",
    "\n",
    "# show the results\n",
    "show(p)"
   ]
  },
  {
   "cell_type": "markdown",
   "metadata": {
    "collapsed": true
   },
   "source": [
    "# Muting Glyphs"
   ]
  },
  {
   "cell_type": "markdown",
   "metadata": {},
   "source": [
    "Legend interaction to mute a glyph, instead of hiding it entirely. In this case, set click_policy property to \"mute\".\n",
    "\n",
    "In the example below, muted_alpha=0.2 and muted_color=color are passed to circle to specify that muted lines should be drawn with a low alpha muted glyph."
   ]
  },
  {
   "cell_type": "code",
   "execution_count": null,
   "metadata": {
    "collapsed": true
   },
   "outputs": [],
   "source": [
    "import pandas as pd\n",
    "\n",
    "from bokeh.palettes import Spectral4\n",
    "from bokeh.plotting import figure, output_file, show, output_notebook\n",
    "from bokeh.sampledata.stocks import AAPL, IBM, MSFT, GOOG\n",
    "\n",
    "p = figure(plot_width=800, plot_height=250, x_axis_type=\"datetime\")\n",
    "p.title.text = 'Click on legend entries to mute the corresponding lines'\n",
    "\n",
    "for data, name, color in zip([AAPL, IBM, MSFT, GOOG], [\"AAPL\", \"IBM\", \"MSFT\", \"GOOG\"], Spectral4):\n",
    "    df = pd.DataFrame(data)\n",
    "    df['date'] = pd.to_datetime(df['date'])\n",
    "    p.line(df['date'], df['close'], line_width=2, color=color, alpha=0.8,\n",
    "           muted_color=color, muted_alpha=0.2, legend=name)\n",
    "\n",
    "p.legend.location = \"top_left\"\n",
    "p.legend.click_policy=\"mute\"\n",
    "\n",
    "#output_file(\"interactive_legend.html\", title=\"interactive_legend.py example\")\n",
    "output_notebook()\n",
    "\n",
    "show(p)"
   ]
  },
  {
   "cell_type": "code",
   "execution_count": null,
   "metadata": {
    "collapsed": true
   },
   "outputs": [],
   "source": [
    "df.head()"
   ]
  },
  {
   "cell_type": "markdown",
   "metadata": {
    "collapsed": true
   },
   "source": [
    "# Hover tool"
   ]
  },
  {
   "cell_type": "code",
   "execution_count": null,
   "metadata": {
    "collapsed": true
   },
   "outputs": [],
   "source": [
    "from bokeh.plotting import figure, output_file, show, ColumnDataSource\n",
    "from bokeh.models import HoverTool\n",
    "\n",
    "output_file(\"toolbar.html\")\n",
    "\n",
    "source = ColumnDataSource(data=dict(\n",
    "    x=[1, 2, 3, 4, 5],\n",
    "    y=[2, 5, 8, 2, 7],\n",
    "    desc=['A', 'b', 'C', 'd', 'E'],\n",
    "))\n",
    "\n",
    "hover = HoverTool(tooltips=[\n",
    "    (\"index\", \"$index\"),\n",
    "    (\"(x,y)\", \"($x, $y)\"),\n",
    "    (\"desc\", \"@desc\"),\n",
    "])\n",
    "\n",
    "p = figure(plot_width=400, plot_height=400, tools=[hover],\n",
    "           title=\"Mouse over the dots\")\n",
    "\n",
    "p.circle('x', 'y', size=20, source=source)\n",
    "\n",
    "show(p)"
   ]
  },
  {
   "cell_type": "markdown",
   "metadata": {},
   "source": [
    "# Testing with random data frame"
   ]
  },
  {
   "cell_type": "code",
   "execution_count": null,
   "metadata": {
    "collapsed": true
   },
   "outputs": [],
   "source": [
    "import pandas as pd\n",
    "import numpy as np\n",
    "\n",
    "df = pd.DataFrame(np.random.randn(50, 4), columns=list('ABCD'))\n",
    "df.head()"
   ]
  },
  {
   "cell_type": "code",
   "execution_count": null,
   "metadata": {
    "collapsed": true
   },
   "outputs": [],
   "source": [
    "df = df.assign(x=df.index)\n",
    "columns = df.columns.values.tolist()\n",
    "columns.remove('x')"
   ]
  },
  {
   "cell_type": "code",
   "execution_count": null,
   "metadata": {
    "collapsed": true
   },
   "outputs": [],
   "source": [
    "print columns"
   ]
  },
  {
   "cell_type": "code",
   "execution_count": null,
   "metadata": {
    "collapsed": true
   },
   "outputs": [],
   "source": [
    "print df.head()"
   ]
  },
  {
   "cell_type": "code",
   "execution_count": null,
   "metadata": {
    "collapsed": true
   },
   "outputs": [],
   "source": [
    "from bokeh.plotting import figure, output_notebook, show, ColumnDataSource\n",
    "from bokeh.models import HoverTool\n",
    "\n",
    "output_notebook()\n",
    "\n",
    "source = ColumnDataSource(df)\n",
    "\n",
    "hover = HoverTool(tooltips=[\n",
    "    (\"index\", \"$index\"),\n",
    "    (\"(x,y)\", \"($x, $y)\"),\n",
    "    (\"Value\", \"@A\"),\n",
    "    ],\n",
    "     # display a tooltip whenever the cursor is vertically in line with a glyph\n",
    "    mode='mouse'\n",
    ")\n",
    "\n",
    "#p = figure(plot_width=400, plot_height=400, tools=[hover],\n",
    "#          title=\"Mouse over the dots\")\n",
    "p = figure(plot_width=400, plot_height=400,tools=[hover],\n",
    "          title=\"Mouse over the dots\")\n",
    "\n",
    "\n",
    "\n",
    "p.cross(source=source, x='x', y='A' , size=20)\n",
    "\n",
    "show(p)\n",
    "#df = df.stack(dropna=False).rename_axis(['a','b']).reset_index(name='c')"
   ]
  },
  {
   "cell_type": "markdown",
   "metadata": {},
   "source": [
    "# datetime pandas"
   ]
  },
  {
   "cell_type": "code",
   "execution_count": 1,
   "metadata": {},
   "outputs": [
    {
     "name": "stdout",
     "output_type": "stream",
     "text": [
      "                             Column1   Column2   Column3\n",
      "date                                                    \n",
      "2017-08-27 19:36:00.649282  0.929542 -1.649060 -0.896842\n",
      "2017-08-28 19:36:00.649282  0.690681  1.071051 -2.326903\n",
      "2017-08-29 19:36:00.649282 -0.198343 -0.048543 -0.305306\n",
      "2017-08-30 19:36:00.649282  0.261286  0.331016 -0.886197\n",
      "2017-08-31 19:36:00.649282 -1.553983  0.497335  2.090348\n",
      "2017-09-01 19:36:00.649282 -1.225183  0.707211  1.821155\n",
      "2017-09-02 19:36:00.649282 -0.088066 -0.486424 -1.166780\n"
     ]
    }
   ],
   "source": [
    "from datetime import datetime, timedelta\n",
    "import pandas as pd\n",
    "import numpy as np\n",
    "\n",
    "date_today = datetime.now()\n",
    "ndays = 7\n",
    "df = pd.DataFrame({'date': [date_today + timedelta(days=x) for x in range(ndays)], \n",
    "                   'Column1': pd.Series(np.random.randn(ndays)),\n",
    "                  'Column2': pd.Series(np.random.randn(ndays)),\n",
    "                 'Column3': pd.Series(np.random.randn(ndays))})\n",
    "df = df.set_index('date')\n",
    "print df"
   ]
  },
  {
   "cell_type": "code",
   "execution_count": 2,
   "metadata": {},
   "outputs": [
    {
     "data": {
      "text/html": [
       "\n",
       "    <div class=\"bk-root\">\n",
       "        <a href=\"http://bokeh.pydata.org\" target=\"_blank\" class=\"bk-logo bk-logo-small bk-logo-notebook\"></a>\n",
       "        <span id=\"47e3a543-4c5a-487d-9d77-21fd83ad0568\">Loading BokehJS ...</span>\n",
       "    </div>"
      ]
     },
     "metadata": {},
     "output_type": "display_data"
    },
    {
     "data": {
      "application/javascript": [
       "\n",
       "(function(root) {\n",
       "  function now() {\n",
       "    return new Date();\n",
       "  }\n",
       "\n",
       "  var force = true;\n",
       "\n",
       "  if (typeof (root._bokeh_onload_callbacks) === \"undefined\" || force === true) {\n",
       "    root._bokeh_onload_callbacks = [];\n",
       "    root._bokeh_is_loading = undefined;\n",
       "  }\n",
       "\n",
       "\n",
       "  \n",
       "  if (typeof (root._bokeh_timeout) === \"undefined\" || force === true) {\n",
       "    root._bokeh_timeout = Date.now() + 5000;\n",
       "    root._bokeh_failed_load = false;\n",
       "  }\n",
       "\n",
       "  var NB_LOAD_WARNING = {'data': {'text/html':\n",
       "     \"<div style='background-color: #fdd'>\\n\"+\n",
       "     \"<p>\\n\"+\n",
       "     \"BokehJS does not appear to have successfully loaded. If loading BokehJS from CDN, this \\n\"+\n",
       "     \"may be due to a slow or bad network connection. Possible fixes:\\n\"+\n",
       "     \"</p>\\n\"+\n",
       "     \"<ul>\\n\"+\n",
       "     \"<li>re-rerun `output_notebook()` to attempt to load from CDN again, or</li>\\n\"+\n",
       "     \"<li>use INLINE resources instead, as so:</li>\\n\"+\n",
       "     \"</ul>\\n\"+\n",
       "     \"<code>\\n\"+\n",
       "     \"from bokeh.resources import INLINE\\n\"+\n",
       "     \"output_notebook(resources=INLINE)\\n\"+\n",
       "     \"</code>\\n\"+\n",
       "     \"</div>\"}};\n",
       "\n",
       "  function display_loaded() {\n",
       "    if (root.Bokeh !== undefined) {\n",
       "      var el = document.getElementById(\"47e3a543-4c5a-487d-9d77-21fd83ad0568\");\n",
       "      if (el != null) {\n",
       "        el.textContent = \"BokehJS \" + Bokeh.version + \" successfully loaded.\";\n",
       "      }\n",
       "    } else if (Date.now() < root._bokeh_timeout) {\n",
       "      setTimeout(display_loaded, 100)\n",
       "    }\n",
       "  }\n",
       "\n",
       "\n",
       "  function run_callbacks() {\n",
       "    try {\n",
       "      root._bokeh_onload_callbacks.forEach(function(callback) { callback() });\n",
       "    }\n",
       "    finally {\n",
       "      delete root._bokeh_onload_callbacks\n",
       "    }\n",
       "    console.info(\"Bokeh: all callbacks have finished\");\n",
       "  }\n",
       "\n",
       "  function load_libs(js_urls, callback) {\n",
       "    root._bokeh_onload_callbacks.push(callback);\n",
       "    if (root._bokeh_is_loading > 0) {\n",
       "      console.log(\"Bokeh: BokehJS is being loaded, scheduling callback at\", now());\n",
       "      return null;\n",
       "    }\n",
       "    if (js_urls == null || js_urls.length === 0) {\n",
       "      run_callbacks();\n",
       "      return null;\n",
       "    }\n",
       "    console.log(\"Bokeh: BokehJS not loaded, scheduling load and callback at\", now());\n",
       "    root._bokeh_is_loading = js_urls.length;\n",
       "    for (var i = 0; i < js_urls.length; i++) {\n",
       "      var url = js_urls[i];\n",
       "      var s = document.createElement('script');\n",
       "      s.src = url;\n",
       "      s.async = false;\n",
       "      s.onreadystatechange = s.onload = function() {\n",
       "        root._bokeh_is_loading--;\n",
       "        if (root._bokeh_is_loading === 0) {\n",
       "          console.log(\"Bokeh: all BokehJS libraries loaded\");\n",
       "          run_callbacks()\n",
       "        }\n",
       "      };\n",
       "      s.onerror = function() {\n",
       "        console.warn(\"failed to load library \" + url);\n",
       "      };\n",
       "      console.log(\"Bokeh: injecting script tag for BokehJS library: \", url);\n",
       "      document.getElementsByTagName(\"head\")[0].appendChild(s);\n",
       "    }\n",
       "  };var element = document.getElementById(\"47e3a543-4c5a-487d-9d77-21fd83ad0568\");\n",
       "  if (element == null) {\n",
       "    console.log(\"Bokeh: ERROR: autoload.js configured with elementid '47e3a543-4c5a-487d-9d77-21fd83ad0568' but no matching script tag was found. \")\n",
       "    return false;\n",
       "  }\n",
       "\n",
       "  var js_urls = [\"https://cdn.pydata.org/bokeh/dev/bokeh-0.12.7rc3.min.js\", \"https://cdn.pydata.org/bokeh/dev/bokeh-widgets-0.12.7rc3.min.js\", \"https://cdn.pydata.org/bokeh/dev/bokeh-tables-0.12.7rc3.min.js\", \"https://cdn.pydata.org/bokeh/dev/bokeh-gl-0.12.7rc3.min.js\"];\n",
       "\n",
       "  var inline_js = [\n",
       "    function(Bokeh) {\n",
       "      Bokeh.set_log_level(\"info\");\n",
       "    },\n",
       "    \n",
       "    function(Bokeh) {\n",
       "      \n",
       "    },\n",
       "    \n",
       "    function(Bokeh) {\n",
       "      \n",
       "      document.getElementById(\"47e3a543-4c5a-487d-9d77-21fd83ad0568\").textContent = \"BokehJS is loading...\";\n",
       "    },\n",
       "    function(Bokeh) {\n",
       "      console.log(\"Bokeh: injecting CSS: https://cdn.pydata.org/bokeh/dev/bokeh-0.12.7rc3.min.css\");\n",
       "      Bokeh.embed.inject_css(\"https://cdn.pydata.org/bokeh/dev/bokeh-0.12.7rc3.min.css\");\n",
       "      console.log(\"Bokeh: injecting CSS: https://cdn.pydata.org/bokeh/dev/bokeh-widgets-0.12.7rc3.min.css\");\n",
       "      Bokeh.embed.inject_css(\"https://cdn.pydata.org/bokeh/dev/bokeh-widgets-0.12.7rc3.min.css\");\n",
       "      console.log(\"Bokeh: injecting CSS: https://cdn.pydata.org/bokeh/dev/bokeh-tables-0.12.7rc3.min.css\");\n",
       "      Bokeh.embed.inject_css(\"https://cdn.pydata.org/bokeh/dev/bokeh-tables-0.12.7rc3.min.css\");\n",
       "    }\n",
       "  ];\n",
       "\n",
       "  function run_inline_js() {\n",
       "    \n",
       "    if ((root.Bokeh !== undefined) || (force === true)) {\n",
       "      for (var i = 0; i < inline_js.length; i++) {\n",
       "        inline_js[i].call(root, root.Bokeh);\n",
       "      }if (force === true) {\n",
       "        display_loaded();\n",
       "      }} else if (Date.now() < root._bokeh_timeout) {\n",
       "      setTimeout(run_inline_js, 100);\n",
       "    } else if (!root._bokeh_failed_load) {\n",
       "      console.log(\"Bokeh: BokehJS failed to load within specified timeout.\");\n",
       "      root._bokeh_failed_load = true;\n",
       "    } else if (force !== true) {\n",
       "      var cell = $(document.getElementById(\"47e3a543-4c5a-487d-9d77-21fd83ad0568\")).parents('.cell').data().cell;\n",
       "      cell.output_area.append_execute_result(NB_LOAD_WARNING)\n",
       "    }\n",
       "\n",
       "  }\n",
       "\n",
       "  if (root._bokeh_is_loading === 0) {\n",
       "    console.log(\"Bokeh: BokehJS loaded, going straight to plotting\");\n",
       "    run_inline_js();\n",
       "  } else {\n",
       "    load_libs(js_urls, function() {\n",
       "      console.log(\"Bokeh: BokehJS plotting callback run at\", now());\n",
       "      run_inline_js();\n",
       "    });\n",
       "  }\n",
       "}(window));"
      ]
     },
     "metadata": {},
     "output_type": "display_data"
    }
   ],
   "source": [
    "from bokeh.plotting import figure, output_notebook, show, ColumnDataSource\n",
    "from bokeh.models import HoverTool\n",
    "\n",
    "output_notebook()\n",
    "\n",
    "source = ColumnDataSource(df)"
   ]
  },
  {
   "cell_type": "code",
   "execution_count": 15,
   "metadata": {
    "collapsed": true
   },
   "outputs": [],
   "source": [
    "hover = HoverTool(\n",
    "    tooltips=[('TS', '@date{%H:%M:%S}'), ( 'Value', '@Column1'),],\n",
    "    formatters={'date'      : 'datetime'},\n",
    "    # display a tooltip whenever the cursor is vertically in line with a glyph\n",
    "    mode='vline'\n",
    ")\n"
   ]
  },
  {
   "cell_type": "code",
   "execution_count": 16,
   "metadata": {
    "collapsed": true
   },
   "outputs": [],
   "source": [
    "p = figure(plot_width=400, plot_height=400,tools=[hover],\n",
    "          title=\"Mouse over the dots\")"
   ]
  },
  {
   "cell_type": "code",
   "execution_count": 17,
   "metadata": {},
   "outputs": [
    {
     "data": {
      "text/html": [
       "\n",
       "\n",
       "    <div class=\"bk-root\">\n",
       "        <div class=\"bk-plotdiv\" id=\"5dca7b42-30e2-40c5-ba6a-d11abf4978c2\"></div>\n",
       "    </div>\n",
       "<script type=\"text/javascript\">\n",
       "  \n",
       "  (function(root) {\n",
       "    function now() {\n",
       "      return new Date();\n",
       "    }\n",
       "  \n",
       "    var force = false;\n",
       "  \n",
       "    if (typeof (root._bokeh_onload_callbacks) === \"undefined\" || force === true) {\n",
       "      root._bokeh_onload_callbacks = [];\n",
       "      root._bokeh_is_loading = undefined;\n",
       "    }\n",
       "  \n",
       "  \n",
       "    \n",
       "    if (typeof (root._bokeh_timeout) === \"undefined\" || force === true) {\n",
       "      root._bokeh_timeout = Date.now() + 0;\n",
       "      root._bokeh_failed_load = false;\n",
       "    }\n",
       "  \n",
       "    var NB_LOAD_WARNING = {'data': {'text/html':\n",
       "       \"<div style='background-color: #fdd'>\\n\"+\n",
       "       \"<p>\\n\"+\n",
       "       \"BokehJS does not appear to have successfully loaded. If loading BokehJS from CDN, this \\n\"+\n",
       "       \"may be due to a slow or bad network connection. Possible fixes:\\n\"+\n",
       "       \"</p>\\n\"+\n",
       "       \"<ul>\\n\"+\n",
       "       \"<li>re-rerun `output_notebook()` to attempt to load from CDN again, or</li>\\n\"+\n",
       "       \"<li>use INLINE resources instead, as so:</li>\\n\"+\n",
       "       \"</ul>\\n\"+\n",
       "       \"<code>\\n\"+\n",
       "       \"from bokeh.resources import INLINE\\n\"+\n",
       "       \"output_notebook(resources=INLINE)\\n\"+\n",
       "       \"</code>\\n\"+\n",
       "       \"</div>\"}};\n",
       "  \n",
       "    function display_loaded() {\n",
       "      if (root.Bokeh !== undefined) {\n",
       "        var el = document.getElementById(\"5dca7b42-30e2-40c5-ba6a-d11abf4978c2\");\n",
       "        if (el != null) {\n",
       "          el.textContent = \"BokehJS \" + Bokeh.version + \" successfully loaded.\";\n",
       "        }\n",
       "      } else if (Date.now() < root._bokeh_timeout) {\n",
       "        setTimeout(display_loaded, 100)\n",
       "      }\n",
       "    }\n",
       "  \n",
       "  \n",
       "    function run_callbacks() {\n",
       "      try {\n",
       "        root._bokeh_onload_callbacks.forEach(function(callback) { callback() });\n",
       "      }\n",
       "      finally {\n",
       "        delete root._bokeh_onload_callbacks\n",
       "      }\n",
       "      console.info(\"Bokeh: all callbacks have finished\");\n",
       "    }\n",
       "  \n",
       "    function load_libs(js_urls, callback) {\n",
       "      root._bokeh_onload_callbacks.push(callback);\n",
       "      if (root._bokeh_is_loading > 0) {\n",
       "        console.log(\"Bokeh: BokehJS is being loaded, scheduling callback at\", now());\n",
       "        return null;\n",
       "      }\n",
       "      if (js_urls == null || js_urls.length === 0) {\n",
       "        run_callbacks();\n",
       "        return null;\n",
       "      }\n",
       "      console.log(\"Bokeh: BokehJS not loaded, scheduling load and callback at\", now());\n",
       "      root._bokeh_is_loading = js_urls.length;\n",
       "      for (var i = 0; i < js_urls.length; i++) {\n",
       "        var url = js_urls[i];\n",
       "        var s = document.createElement('script');\n",
       "        s.src = url;\n",
       "        s.async = false;\n",
       "        s.onreadystatechange = s.onload = function() {\n",
       "          root._bokeh_is_loading--;\n",
       "          if (root._bokeh_is_loading === 0) {\n",
       "            console.log(\"Bokeh: all BokehJS libraries loaded\");\n",
       "            run_callbacks()\n",
       "          }\n",
       "        };\n",
       "        s.onerror = function() {\n",
       "          console.warn(\"failed to load library \" + url);\n",
       "        };\n",
       "        console.log(\"Bokeh: injecting script tag for BokehJS library: \", url);\n",
       "        document.getElementsByTagName(\"head\")[0].appendChild(s);\n",
       "      }\n",
       "    };var element = document.getElementById(\"5dca7b42-30e2-40c5-ba6a-d11abf4978c2\");\n",
       "    if (element == null) {\n",
       "      console.log(\"Bokeh: ERROR: autoload.js configured with elementid '5dca7b42-30e2-40c5-ba6a-d11abf4978c2' but no matching script tag was found. \")\n",
       "      return false;\n",
       "    }\n",
       "  \n",
       "    var js_urls = [];\n",
       "  \n",
       "    var inline_js = [\n",
       "      function(Bokeh) {\n",
       "        (function() {\n",
       "          var fn = function() {\n",
       "            var docs_json = {\"a5cec290-5491-4b66-9cc3-c9c1c9563ba3\":{\"roots\":{\"references\":[{\"attributes\":{\"source\":{\"id\":\"79a33d6a-d08c-4841-bba6-02bc4a10d068\",\"type\":\"ColumnDataSource\"}},\"id\":\"319b09db-969b-468e-a0fb-a60e99608315\",\"type\":\"CDSView\"},{\"attributes\":{\"callback\":null,\"column_names\":[\"date\",\"Column1\",\"Column3\",\"Column2\"],\"data\":{\"Column1\":{\"__ndarray__\":\"706MfM++7T+du8p/DhrmP6tpDdVOY8m//p/RvOi40D+EAOGHHd34v5DZLp5ZmvO/ncJqk32Ltr8=\",\"dtype\":\"float64\",\"shape\":[7]},\"Column2\":{\"__ndarray__\":\"KyQh9oxi+r8BQeGABiPxPwo2Xwmx2qi/cfKIPVwv1T/b+NLqV9TfP+bWUAt5oeY/KXqOsJEh378=\",\"dtype\":\"float64\",\"shape\":[7]},\"Column3\":{\"__ndarray__\":\"YyP3Q+2y7L/C4/4lf50CwPpe4QUhitO/BuI9Rbpb7L9vZglcCLkAQKQteBFzI/0/Ty1sBSGr8r8=\",\"dtype\":\"float64\",\"shape\":[7]},\"date\":{\"__ndarray__\":\"g5R4GVPidUKDlDh/peJ1QoOU+OT34nVCg5S4SkrjdUKDlHiwnON1QoOUOBbv43VCg5T4e0HkdUI=\",\"dtype\":\"float64\",\"shape\":[7]}}},\"id\":\"79a33d6a-d08c-4841-bba6-02bc4a10d068\",\"type\":\"ColumnDataSource\"},{\"attributes\":{},\"id\":\"2a0dc17e-49c6-4ae0-93d1-e3f1b43e10e1\",\"type\":\"BasicTicker\"},{\"attributes\":{\"formatter\":{\"id\":\"c229974f-a0d9-452c-8c3c-6844b4b1c8c3\",\"type\":\"BasicTickFormatter\"},\"plot\":{\"id\":\"53b66879-765a-4201-900f-3c4b660b8572\",\"subtype\":\"Figure\",\"type\":\"Plot\"},\"ticker\":{\"id\":\"2a0dc17e-49c6-4ae0-93d1-e3f1b43e10e1\",\"type\":\"BasicTicker\"}},\"id\":\"2db45ef8-a956-42f5-96ea-ecb25dbbd5d4\",\"type\":\"LinearAxis\"},{\"attributes\":{\"fill_color\":{\"value\":\"#1f77b4\"},\"line_color\":{\"value\":\"#1f77b4\"},\"size\":{\"units\":\"screen\",\"value\":10},\"x\":{\"field\":\"date\"},\"y\":{\"field\":\"Column1\"}},\"id\":\"2d021072-b5f6-4e78-99bb-1a448944f022\",\"type\":\"Circle\"},{\"attributes\":{\"plot\":null,\"text\":\"Mouse over the dots\"},\"id\":\"f4635525-9925-41b4-898d-4d5a11a8caef\",\"type\":\"Title\"},{\"attributes\":{\"callback\":null},\"id\":\"b8ac7f2c-0daf-45d2-9b5a-36ff25f63c9d\",\"type\":\"DataRange1d\"},{\"attributes\":{},\"id\":\"dfcdba2b-187c-45a9-b2d7-d54935995f24\",\"type\":\"BasicTicker\"},{\"attributes\":{},\"id\":\"45e06f59-20e6-4872-8108-80ae1543d86f\",\"type\":\"LinearScale\"},{\"attributes\":{\"plot\":{\"id\":\"53b66879-765a-4201-900f-3c4b660b8572\",\"subtype\":\"Figure\",\"type\":\"Plot\"},\"ticker\":{\"id\":\"dfcdba2b-187c-45a9-b2d7-d54935995f24\",\"type\":\"BasicTicker\"}},\"id\":\"4a2ed3be-1c5b-4d70-8942-a5faa025b815\",\"type\":\"Grid\"},{\"attributes\":{\"below\":[{\"id\":\"aca51f51-9c3d-4701-8500-480585256baa\",\"type\":\"LinearAxis\"}],\"left\":[{\"id\":\"2db45ef8-a956-42f5-96ea-ecb25dbbd5d4\",\"type\":\"LinearAxis\"}],\"plot_height\":400,\"plot_width\":400,\"renderers\":[{\"id\":\"aca51f51-9c3d-4701-8500-480585256baa\",\"type\":\"LinearAxis\"},{\"id\":\"4a2ed3be-1c5b-4d70-8942-a5faa025b815\",\"type\":\"Grid\"},{\"id\":\"2db45ef8-a956-42f5-96ea-ecb25dbbd5d4\",\"type\":\"LinearAxis\"},{\"id\":\"d4ddd493-c2e0-4b10-8c1b-d509cb6cef9b\",\"type\":\"Grid\"},{\"id\":\"9c2d2e9a-ca2b-4066-bf4a-8f5311e551f8\",\"type\":\"GlyphRenderer\"}],\"title\":{\"id\":\"f4635525-9925-41b4-898d-4d5a11a8caef\",\"type\":\"Title\"},\"toolbar\":{\"id\":\"9087db67-817f-4154-932f-b5766fdf28d5\",\"type\":\"Toolbar\"},\"x_range\":{\"id\":\"b8ac7f2c-0daf-45d2-9b5a-36ff25f63c9d\",\"type\":\"DataRange1d\"},\"x_scale\":{\"id\":\"45e06f59-20e6-4872-8108-80ae1543d86f\",\"type\":\"LinearScale\"},\"y_range\":{\"id\":\"e8618f3f-a3f6-4ed2-9e3e-ab03c122268f\",\"type\":\"DataRange1d\"},\"y_scale\":{\"id\":\"4d303d7e-e5d4-469d-9a99-e6c98c5f5a1f\",\"type\":\"LinearScale\"}},\"id\":\"53b66879-765a-4201-900f-3c4b660b8572\",\"subtype\":\"Figure\",\"type\":\"Plot\"},{\"attributes\":{\"data_source\":{\"id\":\"79a33d6a-d08c-4841-bba6-02bc4a10d068\",\"type\":\"ColumnDataSource\"},\"glyph\":{\"id\":\"2d021072-b5f6-4e78-99bb-1a448944f022\",\"type\":\"Circle\"},\"hover_glyph\":null,\"muted_glyph\":null,\"nonselection_glyph\":{\"id\":\"6398db20-a257-4219-be9d-2d2774608b43\",\"type\":\"Circle\"},\"selection_glyph\":null,\"view\":{\"id\":\"319b09db-969b-468e-a0fb-a60e99608315\",\"type\":\"CDSView\"}},\"id\":\"9c2d2e9a-ca2b-4066-bf4a-8f5311e551f8\",\"type\":\"GlyphRenderer\"},{\"attributes\":{\"formatter\":{\"id\":\"c4ae37b9-6627-454d-9013-e4ee4974a95d\",\"type\":\"DatetimeTickFormatter\"},\"major_label_orientation\":0.7853981633974483,\"plot\":{\"id\":\"53b66879-765a-4201-900f-3c4b660b8572\",\"subtype\":\"Figure\",\"type\":\"Plot\"},\"ticker\":{\"id\":\"dfcdba2b-187c-45a9-b2d7-d54935995f24\",\"type\":\"BasicTicker\"}},\"id\":\"aca51f51-9c3d-4701-8500-480585256baa\",\"type\":\"LinearAxis\"},{\"attributes\":{},\"id\":\"c229974f-a0d9-452c-8c3c-6844b4b1c8c3\",\"type\":\"BasicTickFormatter\"},{\"attributes\":{\"dimension\":1,\"plot\":{\"id\":\"53b66879-765a-4201-900f-3c4b660b8572\",\"subtype\":\"Figure\",\"type\":\"Plot\"},\"ticker\":{\"id\":\"2a0dc17e-49c6-4ae0-93d1-e3f1b43e10e1\",\"type\":\"BasicTicker\"}},\"id\":\"d4ddd493-c2e0-4b10-8c1b-d509cb6cef9b\",\"type\":\"Grid\"},{\"attributes\":{\"days\":[\"%d %B %Y\"],\"hours\":[\"%d %B %Y\"],\"months\":[\"%d %B %Y\"],\"years\":[\"%d %B %Y\"]},\"id\":\"c4ae37b9-6627-454d-9013-e4ee4974a95d\",\"type\":\"DatetimeTickFormatter\"},{\"attributes\":{\"fill_alpha\":{\"value\":0.1},\"fill_color\":{\"value\":\"#1f77b4\"},\"line_alpha\":{\"value\":0.1},\"line_color\":{\"value\":\"#1f77b4\"},\"size\":{\"units\":\"screen\",\"value\":10},\"x\":{\"field\":\"date\"},\"y\":{\"field\":\"Column1\"}},\"id\":\"6398db20-a257-4219-be9d-2d2774608b43\",\"type\":\"Circle\"},{\"attributes\":{\"active_drag\":\"auto\",\"active_inspect\":\"auto\",\"active_scroll\":\"auto\",\"active_tap\":\"auto\",\"tools\":[{\"id\":\"8124858a-53da-4085-b048-5d3784e0ec0d\",\"type\":\"HoverTool\"}]},\"id\":\"9087db67-817f-4154-932f-b5766fdf28d5\",\"type\":\"Toolbar\"},{\"attributes\":{},\"id\":\"4d303d7e-e5d4-469d-9a99-e6c98c5f5a1f\",\"type\":\"LinearScale\"},{\"attributes\":{\"callback\":null},\"id\":\"e8618f3f-a3f6-4ed2-9e3e-ab03c122268f\",\"type\":\"DataRange1d\"},{\"attributes\":{\"callback\":null,\"formatters\":{\"date\":\"datetime\"},\"mode\":\"vline\",\"tooltips\":[[\"TS\",\"@date{%H:%M:%S}\"],[\"Value\",\"@Column1\"]]},\"id\":\"8124858a-53da-4085-b048-5d3784e0ec0d\",\"type\":\"HoverTool\"}],\"root_ids\":[\"53b66879-765a-4201-900f-3c4b660b8572\"]},\"title\":\"Bokeh Application\",\"version\":\"0.12.7rc3\"}};\n",
       "            var render_items = [{\"docid\":\"a5cec290-5491-4b66-9cc3-c9c1c9563ba3\",\"elementid\":\"5dca7b42-30e2-40c5-ba6a-d11abf4978c2\",\"modelid\":\"53b66879-765a-4201-900f-3c4b660b8572\"}];\n",
       "            \n",
       "            Bokeh.embed.embed_items(docs_json, render_items);\n",
       "          };\n",
       "          if (document.readyState != \"loading\") fn();\n",
       "          else document.addEventListener(\"DOMContentLoaded\", fn);\n",
       "        })();\n",
       "      },\n",
       "      function(Bokeh) {\n",
       "      }\n",
       "    ];\n",
       "  \n",
       "    function run_inline_js() {\n",
       "      \n",
       "      if ((root.Bokeh !== undefined) || (force === true)) {\n",
       "        for (var i = 0; i < inline_js.length; i++) {\n",
       "          inline_js[i].call(root, root.Bokeh);\n",
       "        }if (force === true) {\n",
       "          display_loaded();\n",
       "        }} else if (Date.now() < root._bokeh_timeout) {\n",
       "        setTimeout(run_inline_js, 100);\n",
       "      } else if (!root._bokeh_failed_load) {\n",
       "        console.log(\"Bokeh: BokehJS failed to load within specified timeout.\");\n",
       "        root._bokeh_failed_load = true;\n",
       "      } else if (force !== true) {\n",
       "        var cell = $(document.getElementById(\"5dca7b42-30e2-40c5-ba6a-d11abf4978c2\")).parents('.cell').data().cell;\n",
       "        cell.output_area.append_execute_result(NB_LOAD_WARNING)\n",
       "      }\n",
       "  \n",
       "    }\n",
       "  \n",
       "    if (root._bokeh_is_loading === 0) {\n",
       "      console.log(\"Bokeh: BokehJS loaded, going straight to plotting\");\n",
       "      run_inline_js();\n",
       "    } else {\n",
       "      load_libs(js_urls, function() {\n",
       "        console.log(\"Bokeh: BokehJS plotting callback run at\", now());\n",
       "        run_inline_js();\n",
       "      });\n",
       "    }\n",
       "  }(window));\n",
       "</script>"
      ]
     },
     "metadata": {},
     "output_type": "display_data"
    }
   ],
   "source": [
    "from bokeh.models import DatetimeTickFormatter\n",
    "from math import pi\n",
    "p.circle(source=source, x='date', y='Column1',size=10)\n",
    "p.xaxis.formatter=DatetimeTickFormatter(\n",
    "        hours=[\"%d %B %Y\"],\n",
    "        days=[\"%d %B %Y\"],\n",
    "        months=[\"%d %B %Y\"],\n",
    "        years=[\"%d %B %Y\"],\n",
    "    )\n",
    "p.xaxis.major_label_orientation = pi/4\n",
    "#hover = p.select(dict(type=HoverTool))\n",
    "#hover.tooltips = {\"time\":'@date{%F}', \"Value\":\"$y\"}\n",
    "#print hover.formatter\n",
    "#hover.formatters = {'time': 'datetime'}\n",
    "#hover.mode = 'mouse'\n",
    "\n",
    "show(p)"
   ]
  },
  {
   "cell_type": "code",
   "execution_count": null,
   "metadata": {
    "collapsed": true
   },
   "outputs": [],
   "source": []
  }
 ],
 "metadata": {
  "kernelspec": {
   "display_name": "Python 2",
   "language": "python",
   "name": "python2"
  },
  "language_info": {
   "codemirror_mode": {
    "name": "ipython",
    "version": 2
   },
   "file_extension": ".py",
   "mimetype": "text/x-python",
   "name": "python",
   "nbconvert_exporter": "python",
   "pygments_lexer": "ipython2",
   "version": "2.7.13"
  }
 },
 "nbformat": 4,
 "nbformat_minor": 2
}
